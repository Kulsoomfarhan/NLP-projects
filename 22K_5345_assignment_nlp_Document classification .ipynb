{
 "cells": [
  {
   "cell_type": "markdown",
   "id": "810fc065",
   "metadata": {},
   "source": [
    "22K-5345\n",
    "Kulsoom Farhan\n"
   ]
  },
  {
   "cell_type": "markdown",
   "id": "302449cd",
   "metadata": {},
   "source": [
    "### Install Libraraies"
   ]
  },
  {
   "cell_type": "code",
   "execution_count": 12,
   "id": "fe1f59c9",
   "metadata": {},
   "outputs": [
    {
     "name": "stdout",
     "output_type": "stream",
     "text": [
      "Collecting PyPDF2\n",
      "  Downloading pypdf2-3.0.1-py3-none-any.whl (232 kB)\n",
      "\u001b[2K     \u001b[90m━━━━━━━━━━━━━━━━━━━━━━━━━━━━━━━━━━━━━\u001b[0m \u001b[32m232.6/232.6 kB\u001b[0m \u001b[31m840.9 kB/s\u001b[0m eta \u001b[36m0:00:00\u001b[0ma \u001b[36m0:00:01\u001b[0m\n",
      "\u001b[?25hInstalling collected packages: PyPDF2\n",
      "Successfully installed PyPDF2-3.0.1\n",
      "\n",
      "\u001b[1m[\u001b[0m\u001b[34;49mnotice\u001b[0m\u001b[1;39;49m]\u001b[0m\u001b[39;49m A new release of pip is available: \u001b[0m\u001b[31;49m23.3.1\u001b[0m\u001b[39;49m -> \u001b[0m\u001b[32;49m23.3.2\u001b[0m\n",
      "\u001b[1m[\u001b[0m\u001b[34;49mnotice\u001b[0m\u001b[1;39;49m]\u001b[0m\u001b[39;49m To update, run: \u001b[0m\u001b[32;49mpip install --upgrade pip\u001b[0m\n",
      "Note: you may need to restart the kernel to use updated packages.\n"
     ]
    }
   ],
   "source": [
    "pip install PyPDF2"
   ]
  },
  {
   "cell_type": "code",
   "execution_count": 24,
   "id": "17748488",
   "metadata": {},
   "outputs": [
    {
     "name": "stderr",
     "output_type": "stream",
     "text": [
      "[nltk_data] Downloading package punkt to /Users/macbook/nltk_data...\n",
      "[nltk_data]   Package punkt is already up-to-date!\n"
     ]
    }
   ],
   "source": [
    "import nltk\n",
    "from sklearn.feature_extraction.text import CountVectorizer\n",
    "from sklearn.metrics.pairwise import cosine_similarity\n",
    "import PyPDF2\n",
    "\n",
    "# Download NLTK resources if not already downloaded\n",
    "nltk.download('punkt')\n",
    "\n",
    "def extract_text_from_pdf(pdf_file):\n",
    "    text = ''\n",
    "    with open(pdf_file, 'rb') as file:\n",
    "        pdf_reader = PyPDF2.PdfReader(file)\n",
    "        for page_num in range(len(pdf_reader.pages)):\n",
    "            text += pdf_reader.pages[page_num].extract_text()\n",
    "    return text\n",
    "\n",
    "def get_term_frequency(documents, vectorizer):\n",
    "    X = vectorizer.transform(documents)\n",
    "    term_frequency = X.toarray()\n",
    "    return term_frequency\n",
    "\n",
    "def classify_test_paper(test_paper, training_papers, labels, vectorizer):\n",
    "    # Fit the vectorizer on the training data\n",
    "    vectorizer.fit(training_papers)\n",
    "\n",
    "    # Get term frequency for training papers\n",
    "    training_term_frequency = get_term_frequency(training_papers, vectorizer)\n",
    "\n",
    "    # Get term frequency for the test paper\n",
    "    test_term_frequency = get_term_frequency([test_paper], vectorizer)\n",
    "\n",
    "    # Calculate cosine similarity\n",
    "    similarity_scores = cosine_similarity(test_term_frequency, training_term_frequency)\n",
    "\n",
    "    # Find the index of the highest similarity score\n",
    "    predicted_class_index = similarity_scores.argmax()\n",
    "\n",
    "    # Return the predicted class label\n",
    "    return labels[predicted_class_index]\n"
   ]
  },
  {
   "cell_type": "code",
   "execution_count": 37,
   "id": "0375806e",
   "metadata": {},
   "outputs": [],
   "source": [
    "\n",
    "fields = ['Physics', 'Computer Science', 'Biology', 'Psychology', 'Economics']\n",
    "\n",
    "# Test PDF file\n",
    "test_pdf = \"test2.pdf\""
   ]
  },
  {
   "cell_type": "code",
   "execution_count": 38,
   "id": "b9b74a57",
   "metadata": {},
   "outputs": [],
   "source": [
    "# Paths to PDF files for each field (two PDFs for each label)\n",
    "physics_pdfs = [\"physics.pdf\", \"physics_2.pdf\"]\n",
    "computer_science_pdfs = [\"computerscience.pdf\", \"computerscience_2.pdf\"]\n",
    "biology_pdfs = [\"biology.pdf\", \"biology_2.pdf\"]\n",
    "psychology_pdfs = [\"psychology.pdf\", \"psychology_2.pdf\"]\n",
    "economics_pdfs = [\"economics.pdf\", \"economics_2.pdf\"]"
   ]
  },
  {
   "cell_type": "code",
   "execution_count": 40,
   "id": "31ef27ff",
   "metadata": {},
   "outputs": [],
   "source": [
    "test_text = extract_text_from_pdf(test_pdf)"
   ]
  },
  {
   "cell_type": "code",
   "execution_count": 41,
   "id": "5b1f4435",
   "metadata": {},
   "outputs": [],
   "source": [
    "# Extract text from PDF files\n",
    "physics_texts = [extract_text_from_pdf(pdf) for pdf in physics_pdfs]\n",
    "computer_science_texts = [extract_text_from_pdf(pdf) for pdf in computer_science_pdfs]\n",
    "biology_texts = [extract_text_from_pdf(pdf) for pdf in biology_pdfs]\n",
    "psychology_texts = [extract_text_from_pdf(pdf) for pdf in psychology_pdfs]\n",
    "economics_texts = [extract_text_from_pdf(pdf) for pdf in economics_pdfs]"
   ]
  },
  {
   "cell_type": "code",
   "execution_count": 42,
   "id": "7e35fc8c",
   "metadata": {},
   "outputs": [],
   "source": [
    "# Training papers for each field\n",
    "physics_papers = physics_texts\n",
    "computer_science_papers = computer_science_texts\n",
    "biology_papers = biology_texts\n",
    "psychology_papers = psychology_texts\n",
    "economics_papers = economics_texts"
   ]
  },
  {
   "cell_type": "code",
   "execution_count": 43,
   "id": "e0e6ae82",
   "metadata": {},
   "outputs": [],
   "source": [
    "# Test paper to be classified\n",
    "test_paper = test_text"
   ]
  },
  {
   "cell_type": "code",
   "execution_count": 44,
   "id": "0ca0242e",
   "metadata": {},
   "outputs": [],
   "source": [
    "# Combine all training papers and labels\n",
    "all_papers = physics_papers + computer_science_papers + biology_papers + psychology_papers + economics_papers\n",
    "all_labels = ['Physics'] * len(physics_papers) + ['Computer Science'] * len(computer_science_papers) + \\\n",
    "             ['Biology'] * len(biology_papers) + ['Psychology'] * len(psychology_papers) + \\\n",
    "             ['Economics'] * len(economics_papers)"
   ]
  },
  {
   "cell_type": "code",
   "execution_count": 45,
   "id": "72b19d25",
   "metadata": {},
   "outputs": [],
   "source": [
    "# Create a CountVectorizer\n",
    "vectorizer = CountVectorizer()"
   ]
  },
  {
   "cell_type": "code",
   "execution_count": 46,
   "id": "debc6cab",
   "metadata": {},
   "outputs": [],
   "source": [
    "# Classify the test paper\n",
    "predicted_class = classify_test_paper(test_paper, all_papers, all_labels, vectorizer)"
   ]
  },
  {
   "cell_type": "code",
   "execution_count": 47,
   "id": "0d719f0c",
   "metadata": {},
   "outputs": [
    {
     "name": "stdout",
     "output_type": "stream",
     "text": [
      "Predicted Class: Physics\n"
     ]
    }
   ],
   "source": [
    "# Print the predicted class\n",
    "print(\"Predicted Class:\", predicted_class)"
   ]
  },
  {
   "cell_type": "code",
   "execution_count": null,
   "id": "6d0d1543",
   "metadata": {},
   "outputs": [],
   "source": []
  },
  {
   "cell_type": "code",
   "execution_count": null,
   "id": "9fc1929d",
   "metadata": {},
   "outputs": [],
   "source": []
  }
 ],
 "metadata": {
  "kernelspec": {
   "display_name": "Python 3 (ipykernel)",
   "language": "python",
   "name": "python3"
  },
  "language_info": {
   "codemirror_mode": {
    "name": "ipython",
    "version": 3
   },
   "file_extension": ".py",
   "mimetype": "text/x-python",
   "name": "python",
   "nbconvert_exporter": "python",
   "pygments_lexer": "ipython3",
   "version": "3.10.9"
  }
 },
 "nbformat": 4,
 "nbformat_minor": 5
}
